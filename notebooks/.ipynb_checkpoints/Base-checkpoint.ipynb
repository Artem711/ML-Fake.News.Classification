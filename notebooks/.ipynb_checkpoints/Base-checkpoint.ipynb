{
 "cells": [
  {
   "cell_type": "markdown",
   "id": "69d96576",
   "metadata": {},
   "source": [
    "## Business: Business problem"
   ]
  },
  {
   "cell_type": "markdown",
   "id": "f6f0cdea",
   "metadata": {},
   "source": [
    "## Practical: Data understanding"
   ]
  },
  {
   "cell_type": "code",
   "execution_count": 20,
   "id": "60a68709",
   "metadata": {},
   "outputs": [],
   "source": [
    "# Importing libraries\n",
    "import pandas as pd\n",
    "import numpy as np"
   ]
  },
  {
   "cell_type": "code",
   "execution_count": 34,
   "id": "13b07e85",
   "metadata": {},
   "outputs": [],
   "source": [
    "# Importing the data\n",
    "\n",
    "train_df = pd.read_csv(\"../data/train.csv\", index_col=\"id\")\n",
    "test_x = pd.read_csv(\"../data/test.csv\")\n",
    "test_y = pd.read_csv(\"../data/submit.csv\")\n",
    "\n",
    "test_df = pd.merge(test_x, test_y, on=\"id\").set_index(\"id\")"
   ]
  },
  {
   "cell_type": "code",
   "execution_count": 38,
   "id": "ccb5332b",
   "metadata": {},
   "outputs": [
    {
     "data": {
      "text/plain": [
       "'Testing dataset'"
      ]
     },
     "metadata": {},
     "output_type": "display_data"
    },
    {
     "data": {
      "text/html": [
       "<div>\n",
       "<style scoped>\n",
       "    .dataframe tbody tr th:only-of-type {\n",
       "        vertical-align: middle;\n",
       "    }\n",
       "\n",
       "    .dataframe tbody tr th {\n",
       "        vertical-align: top;\n",
       "    }\n",
       "\n",
       "    .dataframe thead th {\n",
       "        text-align: right;\n",
       "    }\n",
       "</style>\n",
       "<table border=\"1\" class=\"dataframe\">\n",
       "  <thead>\n",
       "    <tr style=\"text-align: right;\">\n",
       "      <th></th>\n",
       "      <th>title</th>\n",
       "      <th>author</th>\n",
       "      <th>text</th>\n",
       "      <th>label</th>\n",
       "    </tr>\n",
       "    <tr>\n",
       "      <th>id</th>\n",
       "      <th></th>\n",
       "      <th></th>\n",
       "      <th></th>\n",
       "      <th></th>\n",
       "    </tr>\n",
       "  </thead>\n",
       "  <tbody>\n",
       "    <tr>\n",
       "      <th>20800</th>\n",
       "      <td>Specter of Trump Loosens Tongues, if Not Purse...</td>\n",
       "      <td>David Streitfeld</td>\n",
       "      <td>PALO ALTO, Calif.  —   After years of scorning...</td>\n",
       "      <td>0</td>\n",
       "    </tr>\n",
       "    <tr>\n",
       "      <th>20801</th>\n",
       "      <td>Russian warships ready to strike terrorists ne...</td>\n",
       "      <td>NaN</td>\n",
       "      <td>Russian warships ready to strike terrorists ne...</td>\n",
       "      <td>1</td>\n",
       "    </tr>\n",
       "    <tr>\n",
       "      <th>20802</th>\n",
       "      <td>#NoDAPL: Native American Leaders Vow to Stay A...</td>\n",
       "      <td>Common Dreams</td>\n",
       "      <td>Videos #NoDAPL: Native American Leaders Vow to...</td>\n",
       "      <td>0</td>\n",
       "    </tr>\n",
       "    <tr>\n",
       "      <th>20803</th>\n",
       "      <td>Tim Tebow Will Attempt Another Comeback, This ...</td>\n",
       "      <td>Daniel Victor</td>\n",
       "      <td>If at first you don’t succeed, try a different...</td>\n",
       "      <td>1</td>\n",
       "    </tr>\n",
       "    <tr>\n",
       "      <th>20804</th>\n",
       "      <td>Keiser Report: Meme Wars (E995)</td>\n",
       "      <td>Truth Broadcast Network</td>\n",
       "      <td>42 mins ago 1 Views 0 Comments 0 Likes 'For th...</td>\n",
       "      <td>1</td>\n",
       "    </tr>\n",
       "  </tbody>\n",
       "</table>\n",
       "</div>"
      ],
      "text/plain": [
       "                                                   title  \\\n",
       "id                                                         \n",
       "20800  Specter of Trump Loosens Tongues, if Not Purse...   \n",
       "20801  Russian warships ready to strike terrorists ne...   \n",
       "20802  #NoDAPL: Native American Leaders Vow to Stay A...   \n",
       "20803  Tim Tebow Will Attempt Another Comeback, This ...   \n",
       "20804                    Keiser Report: Meme Wars (E995)   \n",
       "\n",
       "                        author  \\\n",
       "id                               \n",
       "20800         David Streitfeld   \n",
       "20801                      NaN   \n",
       "20802            Common Dreams   \n",
       "20803            Daniel Victor   \n",
       "20804  Truth Broadcast Network   \n",
       "\n",
       "                                                    text  label  \n",
       "id                                                               \n",
       "20800  PALO ALTO, Calif.  —   After years of scorning...      0  \n",
       "20801  Russian warships ready to strike terrorists ne...      1  \n",
       "20802  Videos #NoDAPL: Native American Leaders Vow to...      0  \n",
       "20803  If at first you don’t succeed, try a different...      1  \n",
       "20804  42 mins ago 1 Views 0 Comments 0 Likes 'For th...      1  "
      ]
     },
     "metadata": {},
     "output_type": "display_data"
    },
    {
     "data": {
      "text/plain": [
       "'Training dataset'"
      ]
     },
     "metadata": {},
     "output_type": "display_data"
    },
    {
     "data": {
      "text/html": [
       "<div>\n",
       "<style scoped>\n",
       "    .dataframe tbody tr th:only-of-type {\n",
       "        vertical-align: middle;\n",
       "    }\n",
       "\n",
       "    .dataframe tbody tr th {\n",
       "        vertical-align: top;\n",
       "    }\n",
       "\n",
       "    .dataframe thead th {\n",
       "        text-align: right;\n",
       "    }\n",
       "</style>\n",
       "<table border=\"1\" class=\"dataframe\">\n",
       "  <thead>\n",
       "    <tr style=\"text-align: right;\">\n",
       "      <th></th>\n",
       "      <th>title</th>\n",
       "      <th>author</th>\n",
       "      <th>text</th>\n",
       "      <th>label</th>\n",
       "    </tr>\n",
       "    <tr>\n",
       "      <th>id</th>\n",
       "      <th></th>\n",
       "      <th></th>\n",
       "      <th></th>\n",
       "      <th></th>\n",
       "    </tr>\n",
       "  </thead>\n",
       "  <tbody>\n",
       "    <tr>\n",
       "      <th>20795</th>\n",
       "      <td>Rapper T.I.: Trump a ’Poster Child For White S...</td>\n",
       "      <td>Jerome Hudson</td>\n",
       "      <td>Rapper T. I. unloaded on black celebrities who...</td>\n",
       "      <td>0</td>\n",
       "    </tr>\n",
       "    <tr>\n",
       "      <th>20796</th>\n",
       "      <td>N.F.L. Playoffs: Schedule, Matchups and Odds -...</td>\n",
       "      <td>Benjamin Hoffman</td>\n",
       "      <td>When the Green Bay Packers lost to the Washing...</td>\n",
       "      <td>0</td>\n",
       "    </tr>\n",
       "    <tr>\n",
       "      <th>20797</th>\n",
       "      <td>Macy’s Is Said to Receive Takeover Approach by...</td>\n",
       "      <td>Michael J. de la Merced and Rachel Abrams</td>\n",
       "      <td>The Macy’s of today grew from the union of sev...</td>\n",
       "      <td>0</td>\n",
       "    </tr>\n",
       "    <tr>\n",
       "      <th>20798</th>\n",
       "      <td>NATO, Russia To Hold Parallel Exercises In Bal...</td>\n",
       "      <td>Alex Ansary</td>\n",
       "      <td>NATO, Russia To Hold Parallel Exercises In Bal...</td>\n",
       "      <td>1</td>\n",
       "    </tr>\n",
       "    <tr>\n",
       "      <th>20799</th>\n",
       "      <td>What Keeps the F-35 Alive</td>\n",
       "      <td>David Swanson</td>\n",
       "      <td>David Swanson is an author, activist, journa...</td>\n",
       "      <td>1</td>\n",
       "    </tr>\n",
       "  </tbody>\n",
       "</table>\n",
       "</div>"
      ],
      "text/plain": [
       "                                                   title  \\\n",
       "id                                                         \n",
       "20795  Rapper T.I.: Trump a ’Poster Child For White S...   \n",
       "20796  N.F.L. Playoffs: Schedule, Matchups and Odds -...   \n",
       "20797  Macy’s Is Said to Receive Takeover Approach by...   \n",
       "20798  NATO, Russia To Hold Parallel Exercises In Bal...   \n",
       "20799                          What Keeps the F-35 Alive   \n",
       "\n",
       "                                          author  \\\n",
       "id                                                 \n",
       "20795                              Jerome Hudson   \n",
       "20796                           Benjamin Hoffman   \n",
       "20797  Michael J. de la Merced and Rachel Abrams   \n",
       "20798                                Alex Ansary   \n",
       "20799                              David Swanson   \n",
       "\n",
       "                                                    text  label  \n",
       "id                                                               \n",
       "20795  Rapper T. I. unloaded on black celebrities who...      0  \n",
       "20796  When the Green Bay Packers lost to the Washing...      0  \n",
       "20797  The Macy’s of today grew from the union of sev...      0  \n",
       "20798  NATO, Russia To Hold Parallel Exercises In Bal...      1  \n",
       "20799    David Swanson is an author, activist, journa...      1  "
      ]
     },
     "metadata": {},
     "output_type": "display_data"
    }
   ],
   "source": [
    "from IPython.display import display\n",
    "\n",
    "display(\"Testing dataset\", test_df.head())\n",
    "display(\"Training dataset\", train_df.tail())"
   ]
  },
  {
   "cell_type": "markdown",
   "id": "ec855676",
   "metadata": {},
   "source": [
    "## Theory: Approaching it as a Sequence Problem with Neural Networks"
   ]
  },
  {
   "cell_type": "markdown",
   "id": "e8e8eeef",
   "metadata": {},
   "source": [
    "## Theory: Recurrent Neural Networks (RNNs)"
   ]
  },
  {
   "cell_type": "markdown",
   "id": "929dfdb1",
   "metadata": {},
   "source": [
    "## Theory: Problems with Recurrent Neural Networks (RNNs)"
   ]
  },
  {
   "cell_type": "markdown",
   "id": "32416328",
   "metadata": {},
   "source": [
    "## Theory: Variation of RNN architecture: LSTM (Long-Short-Term-Memory)"
   ]
  },
  {
   "cell_type": "markdown",
   "id": "d96e6160",
   "metadata": {},
   "source": [
    "## Business: Steps in building a many-to-one sequence problem for text"
   ]
  },
  {
   "cell_type": "markdown",
   "id": "b3bf8b7e",
   "metadata": {},
   "source": [
    "## Practical: Data cleaning"
   ]
  },
  {
   "cell_type": "markdown",
   "id": "4c0028f3",
   "metadata": {},
   "source": [
    "#### Step 1: Drop unused (rows and columns)"
   ]
  },
  {
   "cell_type": "markdown",
   "id": "df32376a",
   "metadata": {},
   "source": [
    "#### Step 2: Null value imputation"
   ]
  },
  {
   "cell_type": "markdown",
   "id": "bd2f06d8",
   "metadata": {},
   "source": [
    "#### Step 3: Remove special characters"
   ]
  },
  {
   "cell_type": "markdown",
   "id": "3da293d9",
   "metadata": {},
   "source": [
    "#### Step 4: Remove stop words"
   ]
  },
  {
   "cell_type": "markdown",
   "id": "2252af8f",
   "metadata": {},
   "source": [
    "## Practical: Exploratory Data Analysis (EDA)"
   ]
  },
  {
   "cell_type": "markdown",
   "id": "154066d4",
   "metadata": {},
   "source": [
    "## Practical: Preparing (trainining and testing) datasets"
   ]
  },
  {
   "cell_type": "markdown",
   "id": "e5f270e5",
   "metadata": {},
   "source": [
    "## Practical: Sequence data transformation"
   ]
  },
  {
   "cell_type": "markdown",
   "id": "c68d1a28",
   "metadata": {},
   "source": [
    "## Practical: Feature Engineering - Word Embedding"
   ]
  },
  {
   "cell_type": "markdown",
   "id": "557242e4",
   "metadata": {},
   "source": [
    "## Practical: Text-based sequence neural network component"
   ]
  },
  {
   "cell_type": "markdown",
   "id": "a1087f3e",
   "metadata": {},
   "source": [
    "## Practical: Important hyperparameters"
   ]
  },
  {
   "cell_type": "markdown",
   "id": "f34478f7",
   "metadata": {},
   "source": [
    "## Practical: Building a sequential neural network"
   ]
  },
  {
   "cell_type": "markdown",
   "id": "407f5c8a",
   "metadata": {},
   "source": [
    "## Practical: Training a (RNN) model"
   ]
  },
  {
   "cell_type": "markdown",
   "id": "a79d4739",
   "metadata": {},
   "source": [
    "## Practical: Training a (GRU) model"
   ]
  },
  {
   "cell_type": "markdown",
   "id": "07d25788",
   "metadata": {},
   "source": [
    "## Practical: Training a (LSTM) model"
   ]
  },
  {
   "cell_type": "markdown",
   "id": "1e6e7341",
   "metadata": {},
   "source": [
    "## Practical: Model performance comparison of GRU and LSTM"
   ]
  }
 ],
 "metadata": {
  "kernelspec": {
   "display_name": "Python 3 (ipykernel)",
   "language": "python",
   "name": "python3"
  },
  "language_info": {
   "codemirror_mode": {
    "name": "ipython",
    "version": 3
   },
   "file_extension": ".py",
   "mimetype": "text/x-python",
   "name": "python",
   "nbconvert_exporter": "python",
   "pygments_lexer": "ipython3",
   "version": "3.9.12"
  }
 },
 "nbformat": 4,
 "nbformat_minor": 5
}
