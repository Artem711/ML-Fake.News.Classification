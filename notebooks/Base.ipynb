{
 "cells": [
  {
   "cell_type": "markdown",
   "id": "2fda2bc9",
   "metadata": {},
   "source": [
    "## Business: Business problem"
   ]
  },
  {
   "cell_type": "markdown",
   "id": "1caa30aa",
   "metadata": {},
   "source": [
    "## Practical: Data understanding"
   ]
  },
  {
   "cell_type": "markdown",
   "id": "01ae4c72",
   "metadata": {},
   "source": [
    "## Theory: Approaching it as a Sequence Problem with Neural Networks"
   ]
  },
  {
   "cell_type": "markdown",
   "id": "9454e00a",
   "metadata": {},
   "source": [
    "## Theory: Recurrent Neural Networks (RNNs)"
   ]
  },
  {
   "cell_type": "markdown",
   "id": "fe2009d8",
   "metadata": {},
   "source": [
    "## Theory: Problems with Recurrent Neural Networks (RNNs)"
   ]
  },
  {
   "cell_type": "markdown",
   "id": "4e98a469",
   "metadata": {},
   "source": [
    "## Theory: Variation of RNN architecture: LSTM (Long-Short-Term-Memory)"
   ]
  },
  {
   "cell_type": "markdown",
   "id": "dd9e25a2",
   "metadata": {},
   "source": [
    "## Business: Steps in building a many-to-one sequence problem for text"
   ]
  },
  {
   "cell_type": "markdown",
   "id": "3b7a03ce",
   "metadata": {},
   "source": [
    "## Practical: Data cleaning"
   ]
  },
  {
   "cell_type": "markdown",
   "id": "b6a5f646",
   "metadata": {},
   "source": [
    "#### Step 1: Drop unused (rows and columns)"
   ]
  },
  {
   "cell_type": "markdown",
   "id": "38bfc74f",
   "metadata": {},
   "source": [
    "#### Step 2: Null value imputation"
   ]
  },
  {
   "cell_type": "markdown",
   "id": "656dd26e",
   "metadata": {},
   "source": [
    "#### Step 3: Remove special characters"
   ]
  },
  {
   "cell_type": "markdown",
   "id": "20fcfe5f",
   "metadata": {},
   "source": [
    "#### Step 4: Remove stop words"
   ]
  },
  {
   "cell_type": "markdown",
   "id": "cd4c7e4e",
   "metadata": {},
   "source": [
    "## Practical: Exploratory Data Analysis (EDA)"
   ]
  },
  {
   "cell_type": "markdown",
   "id": "ca7d9cbc",
   "metadata": {},
   "source": [
    "## Practical: Preparing (trainining and testing) datasets"
   ]
  },
  {
   "cell_type": "markdown",
   "id": "ec2a4dcc",
   "metadata": {},
   "source": [
    "## Practical: Sequence data transformation"
   ]
  },
  {
   "cell_type": "markdown",
   "id": "140eb10b",
   "metadata": {},
   "source": [
    "## Practical: Feature Engineering - Word Embedding"
   ]
  },
  {
   "cell_type": "markdown",
   "id": "f5cafd47",
   "metadata": {},
   "source": [
    "## Practical: Text-based sequence neural network component"
   ]
  },
  {
   "cell_type": "markdown",
   "id": "fa84cd08",
   "metadata": {},
   "source": [
    "## Practical: Important hyperparameters"
   ]
  },
  {
   "cell_type": "markdown",
   "id": "18a1ba01",
   "metadata": {},
   "source": [
    "## Practical: Building a sequential neural network"
   ]
  },
  {
   "cell_type": "markdown",
   "id": "e770ee36",
   "metadata": {},
   "source": [
    "## Practical: Training a (RNN) model"
   ]
  },
  {
   "cell_type": "markdown",
   "id": "8c2fb6e9",
   "metadata": {},
   "source": [
    "## Practical: Training a (GRU) model"
   ]
  },
  {
   "cell_type": "markdown",
   "id": "4cc06928",
   "metadata": {},
   "source": [
    "## Practical: Training a (LSTM) model"
   ]
  },
  {
   "cell_type": "code",
   "execution_count": null,
   "id": "ba6240c4",
   "metadata": {},
   "outputs": [],
   "source": [
    "## Practical: Training a (GRU) model"
   ]
  }
 ],
 "metadata": {
  "kernelspec": {
   "display_name": "Python 3 (ipykernel)",
   "language": "python",
   "name": "python3"
  },
  "language_info": {
   "codemirror_mode": {
    "name": "ipython",
    "version": 3
   },
   "file_extension": ".py",
   "mimetype": "text/x-python",
   "name": "python",
   "nbconvert_exporter": "python",
   "pygments_lexer": "ipython3",
   "version": "3.9.12"
  }
 },
 "nbformat": 4,
 "nbformat_minor": 5
}
